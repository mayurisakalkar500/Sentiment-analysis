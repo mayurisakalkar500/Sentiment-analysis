{
  "cells": [
    {
      "cell_type": "markdown",
      "metadata": {
        "id": "view-in-github",
        "colab_type": "text"
      },
      "source": [
        "<a href=\"https://colab.research.google.com/github/Parinitha-M-Samaga/DL/blob/main/Hiragana_Identification.ipynb\" target=\"_parent\"><img src=\"https://colab.research.google.com/assets/colab-badge.svg\" alt=\"Open In Colab\"/></a>"
      ]
    },
    {
      "cell_type": "markdown",
      "metadata": {
        "id": "Yy4MUTqZW-fG"
      },
      "source": [
        "**Dataset:** http://etlcdb.db.aist.go.jp/obtaining-etl-character-database ETL8G.zip <br>\n",
        "**Problem Statement:** To build a CNN Model that recognises Japanese characters.\n",
        "\n"
      ]
    },
    {
      "cell_type": "code",
      "execution_count": null,
      "metadata": {
        "colab": {
          "base_uri": "https://localhost:8080/",
          "height": 450
        },
        "id": "YPDVW2pwXJpJ",
        "outputId": "da17853a-9838-4978-8ca1-07524535eca4"
      },
      "outputs": [
        {
          "data": {
            "text/plain": [
              "<matplotlib.image.AxesImage at 0x7bdc48953b80>"
            ]
          },
          "execution_count": 28,
          "metadata": {},
          "output_type": "execute_result"
        },
        {
          "data": {
            "image/png": "[encoded data removed]",
            "text/plain": [
              "<Figure size 640x480 with 1 Axes>"
            ]
          },
          "metadata": {},
          "output_type": "display_data"
        }
      ],
      "source": [
        "#100% data for training\n",
        "import matplotlib.pyplot as plt\n",
        "import tensorflow as tf\n",
        "from PIL import Image\n",
        "from tensorflow.keras import datasets, layers, models\n",
        "import matplotlib.pyplot as plt\n",
        "import cv2 as cv\n",
        "\n",
        "image = cv.imread(\"/content/kanaA0.jpg\",)\n",
        "image2 = cv.imread(\"/content/kanaBA0.jpg\",)\n",
        "image3 = cv.imread(\"/content/kanaCHI0.jpg\",)\n",
        "image4 = cv.imread(\"/content/kanaDA0.jpg\",)\n",
        "image5 = cv.imread(\"/content/kanaE0.jpg\",)\n",
        "\n",
        "image11 = cv.imread(\"/content/kanaA2.jpg\",)\n",
        "image12 = cv.imread(\"/content/kanaBA2.jpg\",)\n",
        "image13 = cv.imread(\"/content/kanaCHI2.jpg\",)\n",
        "image14 = cv.imread(\"/content/kanaDA2.jpg\",)\n",
        "image15 = cv.imread(\"/content/kanaE2.jpg\",)\n",
        "\n",
        "\n",
        "plt.imshow(image2)"
      ]
    },
    {
      "cell_type": "code",
      "execution_count": null,
      "metadata": {
        "colab": {
          "base_uri": "https://localhost:8080/",
          "height": 70
        },
        "id": "-peNv7fd6u-r",
        "outputId": "97aa7d5c-7a5f-46c6-aa07-3aebb83659a5"
      },
      "outputs": [
        {
          "data": {
            "application/vnd.google.colaboratory.intrinsic+json": {
              "type": "string"
            },
            "text/plain": [
              "'from keras.utils import to_categorical\\nfrom keras.datasets import mnist\\n(train_images, train_labels), (test_images, test_labels) = mnist.load_data()\\ntrain_images = train_images.reshape(60000, 28,28,1)\\ntest_images = test_images.reshape(10000, 28,28,1)\\ntrain_labels = to_categorical(train_labels)\\ntest_labels = to_categorical(test_labels)'"
            ]
          },
          "execution_count": 29,
          "metadata": {},
          "output_type": "execute_result"
        }
      ],
      "source": [
        "'''from keras.utils import to_categorical\n",
        "from keras.datasets import mnist\n",
        "(train_images, train_labels), (test_images, test_labels) = mnist.load_data()\n",
        "train_images = train_images.reshape(60000, 28,28,1)\n",
        "test_images = test_images.reshape(10000, 28,28,1)\n",
        "train_labels = to_categorical(train_labels)\n",
        "test_labels = to_categorical(test_labels)'''"
      ]
    },
    {
      "cell_type": "code",
      "execution_count": null,
      "metadata": {
        "id": "jbmEq1KP5zIf"
      },
      "outputs": [],
      "source": [
        "import numpy as np\n",
        "train_images = [image,image2,image3,image4,image5,image11,image12,image13,image14,image15]\n",
        "train_images = np.array(train_images)\n",
        "image6 = cv.imread(\"/content/kanaA1.jpg\")\n",
        "image7 = cv.imread(\"/content/kanaBA1.jpg\")\n",
        "image8 = cv.imread(\"/content/kanaCHI1.jpg\")\n",
        "image9 = cv.imread(\"/content/kanaDA1.jpg\")\n",
        "image10 = cv.imread(\"/content/kanaE1.jpg\")\n",
        "test_images = [image6,image7,image8,image9,image10]\n",
        "test_images = np.array(test_images)\n",
        "train_images = train_images.reshape(10, 84,83,3)\n",
        "test_images = test_images.reshape(5, 84,83,3)"
      ]
    },
    {
      "cell_type": "code",
      "execution_count": null,
      "metadata": {
        "colab": {
          "base_uri": "https://localhost:8080/"
        },
        "id": "vnZCKTqwYIgo",
        "outputId": "765448a9-15bf-4db7-c7b9-0a06ae38958d"
      },
      "outputs": [
        {
          "name": "stdout",
          "output_type": "stream",
          "text": [
            "(5, 5)\n"
          ]
        }
      ],
      "source": [
        "np.array(image5).shape\n",
        "print(test_labels.shape)"
      ]
    },
    {
      "cell_type": "code",
      "execution_count": null,
      "metadata": {
        "id": "xKhvowbgz23K"
      },
      "outputs": [],
      "source": [
        "from keras.utils import to_categorical\n",
        "class_labels = ['0','1','2','3','4','0','1','2','3','4']\n",
        "class_labels = np.array(class_labels)\n",
        "class_labels = to_categorical(class_labels)\n",
        "train_labels = class_labels\n",
        "train_labels.shape\n",
        "test_labels = ['0','1','2','3','4']\n",
        "test_labels = np.array(test_labels)\n",
        "test_labels = to_categorical(test_labels)"
      ]
    },
    {
      "cell_type": "code",
      "execution_count": null,
      "metadata": {
        "id": "bUXKJsRZ9UjJ"
      },
      "outputs": [],
      "source": [
        "model = models.Sequential()\n",
        "model.add(layers.Conv2D(84, (3, 3), activation='relu', input_shape=(84, 83, 3)))\n",
        "model.add(layers.MaxPooling2D((2, 2)))\n",
        "model.add(layers.Conv2D(64, (3, 3), activation='relu'))\n",
        "model.add(layers.MaxPooling2D((2, 2)))\n",
        "model.add(layers.Conv2D(64, (3, 3), activation='relu'))"
      ]
    },
    {
      "cell_type": "code",
      "execution_count": null,
      "metadata": {
        "colab": {
          "base_uri": "https://localhost:8080/"
        },
        "id": "CpW-4SxtzAra",
        "outputId": "6148c857-7d62-4f82-f022-791ad1011058"
      },
      "outputs": [
        {
          "name": "stdout",
          "output_type": "stream",
          "text": [
            "Model: \"sequential_2\"\n",
            "_________________________________________________________________\n",
            " Layer (type)                Output Shape              Param #   \n",
            "=================================================================\n",
            " conv2d_6 (Conv2D)           (None, 82, 81, 84)        2352      \n",
            "                                                                 \n",
            " max_pooling2d_4 (MaxPoolin  (None, 41, 40, 84)        0         \n",
            " g2D)                                                            \n",
            "                                                                 \n",
            " conv2d_7 (Conv2D)           (None, 39, 38, 64)        48448     \n",
            "                                                                 \n",
            " max_pooling2d_5 (MaxPoolin  (None, 19, 19, 64)        0         \n",
            " g2D)                                                            \n",
            "                                                                 \n",
            " conv2d_8 (Conv2D)           (None, 17, 17, 64)        36928     \n",
            "                                                                 \n",
            "=================================================================\n",
            "Total params: 87728 (342.69 KB)\n",
            "Trainable params: 87728 (342.69 KB)\n",
            "Non-trainable params: 0 (0.00 Byte)\n",
            "_________________________________________________________________\n"
          ]
        }
      ],
      "source": [
        "model.summary()"
      ]
    },
    {
      "cell_type": "code",
      "execution_count": null,
      "metadata": {
        "id": "KUtcSXe8zhdg"
      },
      "outputs": [],
      "source": [
        "model.add(layers.Flatten())\n",
        "model.add(layers.Dropout(0.2))\n",
        "model.add(layers.Dense(64, activation='relu'))\n",
        "model.add(layers.Dropout(0.2))\n",
        "model.add(layers.Dense(5, activation='softmax'))"
      ]
    },
    {
      "cell_type": "code",
      "execution_count": null,
      "metadata": {
        "colab": {
          "base_uri": "https://localhost:8080/"
        },
        "id": "g25f0nD6zyYE",
        "outputId": "7cf4a51b-da18-4d84-c9a9-052836ef0826"
      },
      "outputs": [
        {
          "name": "stdout",
          "output_type": "stream",
          "text": [
            "Model: \"sequential_2\"\n",
            "_________________________________________________________________\n",
            " Layer (type)                Output Shape              Param #   \n",
            "=================================================================\n",
            " conv2d_6 (Conv2D)           (None, 82, 81, 84)        2352      \n",
            "                                                                 \n",
            " max_pooling2d_4 (MaxPoolin  (None, 41, 40, 84)        0         \n",
            " g2D)                                                            \n",
            "                                                                 \n",
            " conv2d_7 (Conv2D)           (None, 39, 38, 64)        48448     \n",
            "                                                                 \n",
            " max_pooling2d_5 (MaxPoolin  (None, 19, 19, 64)        0         \n",
            " g2D)                                                            \n",
            "                                                                 \n",
            " conv2d_8 (Conv2D)           (None, 17, 17, 64)        36928     \n",
            "                                                                 \n",
            " flatten_2 (Flatten)         (None, 18496)             0         \n",
            "                                                                 \n",
            " dropout_4 (Dropout)         (None, 18496)             0         \n",
            "                                                                 \n",
            " dense_4 (Dense)             (None, 64)                1183808   \n",
            "                                                                 \n",
            " dropout_5 (Dropout)         (None, 64)                0         \n",
            "                                                                 \n",
            " dense_5 (Dense)             (None, 5)                 325       \n",
            "                                                                 \n",
            "=================================================================\n",
            "Total params: 1271861 (4.85 MB)\n",
            "Trainable params: 1271861 (4.85 MB)\n",
            "Non-trainable params: 0 (0.00 Byte)\n",
            "_________________________________________________________________\n"
          ]
        }
      ],
      "source": [
        "model.summary()"
      ]
    },
    {
      "cell_type": "code",
      "execution_count": null,
      "metadata": {
        "colab": {
          "base_uri": "https://localhost:8080/"
        },
        "id": "4D6KuzCzz0SC",
        "outputId": "8a158d9d-2c76-47ff-c6da-6c6f4b7ecd17"
      },
      "outputs": [
        {
          "output_type": "stream",
          "name": "stdout",
          "text": [
            "Epoch 1/100\n",
            "1/1 [==============================] - 1s 1s/step - loss: 0.0000e+00 - accuracy: 1.0000 - val_loss: 18.5068 - val_accuracy: 0.8000\n",
            "Epoch 2/100\n",
            "1/1 [==============================] - 0s 237ms/step - loss: 0.0000e+00 - accuracy: 1.0000 - val_loss: 18.5068 - val_accuracy: 0.8000\n",
            "Epoch 3/100\n",
            "1/1 [==============================] - 0s 250ms/step - loss: 0.0000e+00 - accuracy: 1.0000 - val_loss: 18.5068 - val_accuracy: 0.8000\n",
            "Epoch 4/100\n",
            "1/1 [==============================] - 0s 243ms/step - loss: 0.0000e+00 - accuracy: 1.0000 - val_loss: 18.5068 - val_accuracy: 0.8000\n",
            "Epoch 5/100\n",
            "1/1 [==============================] - 0s 246ms/step - loss: 0.0000e+00 - accuracy: 1.0000 - val_loss: 18.5068 - val_accuracy: 0.8000\n",
            "Epoch 6/100\n",
            "1/1 [==============================] - 0s 219ms/step - loss: 0.0000e+00 - accuracy: 1.0000 - val_loss: 18.5068 - val_accuracy: 0.8000\n",
            "Epoch 7/100\n",
            "1/1 [==============================] - 0s 235ms/step - loss: 0.0000e+00 - accuracy: 1.0000 - val_loss: 18.5068 - val_accuracy: 0.8000\n",
            "Epoch 8/100\n",
            "1/1 [==============================] - 0s 258ms/step - loss: 0.0000e+00 - accuracy: 1.0000 - val_loss: 18.5068 - val_accuracy: 0.8000\n",
            "Epoch 9/100\n",
            "1/1 [==============================] - 0s 246ms/step - loss: 0.0000e+00 - accuracy: 1.0000 - val_loss: 18.5068 - val_accuracy: 0.8000\n",
            "Epoch 10/100\n",
            "1/1 [==============================] - 0s 221ms/step - loss: 0.0000e+00 - accuracy: 1.0000 - val_loss: 18.5068 - val_accuracy: 0.8000\n",
            "Epoch 11/100\n",
            "1/1 [==============================] - 0s 218ms/step - loss: 0.0000e+00 - accuracy: 1.0000 - val_loss: 18.5068 - val_accuracy: 0.8000\n",
            "Epoch 12/100\n",
            "1/1 [==============================] - 0s 219ms/step - loss: 0.0000e+00 - accuracy: 1.0000 - val_loss: 18.5068 - val_accuracy: 0.8000\n",
            "Epoch 13/100\n",
            "1/1 [==============================] - 0s 236ms/step - loss: 0.0000e+00 - accuracy: 1.0000 - val_loss: 18.5068 - val_accuracy: 0.8000\n",
            "Epoch 14/100\n",
            "1/1 [==============================] - 0s 223ms/step - loss: 0.0000e+00 - accuracy: 1.0000 - val_loss: 18.5068 - val_accuracy: 0.8000\n",
            "Epoch 15/100\n",
            "1/1 [==============================] - 0s 219ms/step - loss: 0.0000e+00 - accuracy: 1.0000 - val_loss: 18.5068 - val_accuracy: 0.8000\n",
            "Epoch 16/100\n",
            "1/1 [==============================] - 0s 241ms/step - loss: 0.0000e+00 - accuracy: 1.0000 - val_loss: 18.5068 - val_accuracy: 0.8000\n",
            "Epoch 17/100\n",
            "1/1 [==============================] - 0s 228ms/step - loss: 0.0000e+00 - accuracy: 1.0000 - val_loss: 18.5068 - val_accuracy: 0.8000\n",
            "Epoch 18/100\n",
            "1/1 [==============================] - 0s 251ms/step - loss: 0.0000e+00 - accuracy: 1.0000 - val_loss: 18.5068 - val_accuracy: 0.8000\n",
            "Epoch 19/100\n",
            "1/1 [==============================] - 0s 274ms/step - loss: 0.0000e+00 - accuracy: 1.0000 - val_loss: 18.5068 - val_accuracy: 0.8000\n",
            "Epoch 20/100\n",
            "1/1 [==============================] - 0s 259ms/step - loss: 0.0000e+00 - accuracy: 1.0000 - val_loss: 18.5068 - val_accuracy: 0.8000\n",
            "Epoch 21/100\n",
            "1/1 [==============================] - 0s 237ms/step - loss: 0.0000e+00 - accuracy: 1.0000 - val_loss: 18.5068 - val_accuracy: 0.8000\n",
            "Epoch 22/100\n",
            "1/1 [==============================] - 0s 411ms/step - loss: 0.0000e+00 - accuracy: 1.0000 - val_loss: 18.5068 - val_accuracy: 0.8000\n",
            "Epoch 23/100\n",
            "1/1 [==============================] - 0s 250ms/step - loss: 0.0000e+00 - accuracy: 1.0000 - val_loss: 18.5068 - val_accuracy: 0.8000\n",
            "Epoch 24/100\n",
            "1/1 [==============================] - 0s 235ms/step - loss: 5.8658e-05 - accuracy: 1.0000 - val_loss: 18.8042 - val_accuracy: 0.8000\n",
            "Epoch 25/100\n",
            "1/1 [==============================] - 0s 293ms/step - loss: 0.0000e+00 - accuracy: 1.0000 - val_loss: 18.8042 - val_accuracy: 0.8000\n",
            "Epoch 26/100\n",
            "1/1 [==============================] - 0s 405ms/step - loss: 0.0000e+00 - accuracy: 1.0000 - val_loss: 18.8042 - val_accuracy: 0.8000\n",
            "Epoch 27/100\n",
            "1/1 [==============================] - 0s 406ms/step - loss: 0.0000e+00 - accuracy: 1.0000 - val_loss: 18.8042 - val_accuracy: 0.8000\n",
            "Epoch 28/100\n",
            "1/1 [==============================] - 0s 479ms/step - loss: 0.0000e+00 - accuracy: 1.0000 - val_loss: 18.8042 - val_accuracy: 0.8000\n",
            "Epoch 29/100\n",
            "1/1 [==============================] - 0s 406ms/step - loss: 6.6104e-05 - accuracy: 1.0000 - val_loss: 19.0285 - val_accuracy: 0.8000\n",
            "Epoch 30/100\n",
            "1/1 [==============================] - 0s 493ms/step - loss: 0.0000e+00 - accuracy: 1.0000 - val_loss: 19.0285 - val_accuracy: 0.8000\n",
            "Epoch 31/100\n",
            "1/1 [==============================] - 0s 418ms/step - loss: 0.0000e+00 - accuracy: 1.0000 - val_loss: 19.0285 - val_accuracy: 0.8000\n",
            "Epoch 32/100\n",
            "1/1 [==============================] - 0s 230ms/step - loss: 0.0000e+00 - accuracy: 1.0000 - val_loss: 19.0285 - val_accuracy: 0.8000\n",
            "Epoch 33/100\n",
            "1/1 [==============================] - 0s 256ms/step - loss: 0.0000e+00 - accuracy: 1.0000 - val_loss: 19.0285 - val_accuracy: 0.8000\n",
            "Epoch 34/100\n",
            "1/1 [==============================] - 0s 252ms/step - loss: 0.0000e+00 - accuracy: 1.0000 - val_loss: 19.0285 - val_accuracy: 0.8000\n",
            "Epoch 35/100\n",
            "1/1 [==============================] - 0s 244ms/step - loss: 0.0000e+00 - accuracy: 1.0000 - val_loss: 19.0285 - val_accuracy: 0.8000\n",
            "Epoch 36/100\n",
            "1/1 [==============================] - 0s 243ms/step - loss: 0.0000e+00 - accuracy: 1.0000 - val_loss: 19.0285 - val_accuracy: 0.8000\n",
            "Epoch 37/100\n",
            "1/1 [==============================] - 0s 251ms/step - loss: 0.0000e+00 - accuracy: 1.0000 - val_loss: 19.0285 - val_accuracy: 0.8000\n",
            "Epoch 38/100\n",
            "1/1 [==============================] - 0s 253ms/step - loss: 0.0000e+00 - accuracy: 1.0000 - val_loss: 19.0285 - val_accuracy: 0.8000\n",
            "Epoch 39/100\n",
            "1/1 [==============================] - 0s 230ms/step - loss: 0.0000e+00 - accuracy: 1.0000 - val_loss: 19.0285 - val_accuracy: 0.8000\n",
            "Epoch 40/100\n",
            "1/1 [==============================] - 0s 236ms/step - loss: 3.8147e-07 - accuracy: 1.0000 - val_loss: 19.0312 - val_accuracy: 0.8000\n",
            "Epoch 41/100\n",
            "1/1 [==============================] - 0s 295ms/step - loss: 0.0000e+00 - accuracy: 1.0000 - val_loss: 19.0312 - val_accuracy: 0.8000\n",
            "Epoch 42/100\n",
            "1/1 [==============================] - 0s 244ms/step - loss: 0.0000e+00 - accuracy: 1.0000 - val_loss: 19.0312 - val_accuracy: 0.8000\n",
            "Epoch 43/100\n",
            "1/1 [==============================] - 0s 260ms/step - loss: 9.5367e-08 - accuracy: 1.0000 - val_loss: 19.0320 - val_accuracy: 0.8000\n",
            "Epoch 44/100\n",
            "1/1 [==============================] - 0s 496ms/step - loss: 2.3842e-08 - accuracy: 1.0000 - val_loss: 19.0321 - val_accuracy: 0.8000\n",
            "Epoch 45/100\n",
            "1/1 [==============================] - 0s 416ms/step - loss: 0.0000e+00 - accuracy: 1.0000 - val_loss: 19.0321 - val_accuracy: 0.8000\n",
            "Epoch 46/100\n",
            "1/1 [==============================] - 1s 511ms/step - loss: 0.0000e+00 - accuracy: 1.0000 - val_loss: 19.0321 - val_accuracy: 0.8000\n",
            "Epoch 47/100\n",
            "1/1 [==============================] - 0s 450ms/step - loss: 0.0000e+00 - accuracy: 1.0000 - val_loss: 19.0321 - val_accuracy: 0.8000\n",
            "Epoch 48/100\n",
            "1/1 [==============================] - 0s 420ms/step - loss: 0.0000e+00 - accuracy: 1.0000 - val_loss: 19.0321 - val_accuracy: 0.8000\n",
            "Epoch 49/100\n",
            "1/1 [==============================] - 0s 407ms/step - loss: 0.0000e+00 - accuracy: 1.0000 - val_loss: 19.0321 - val_accuracy: 0.8000\n",
            "Epoch 50/100\n",
            "1/1 [==============================] - 0s 437ms/step - loss: 0.0000e+00 - accuracy: 1.0000 - val_loss: 19.0321 - val_accuracy: 0.8000\n",
            "Epoch 51/100\n",
            "1/1 [==============================] - 0s 453ms/step - loss: 0.0000e+00 - accuracy: 1.0000 - val_loss: 19.0321 - val_accuracy: 0.8000\n",
            "Epoch 52/100\n",
            "1/1 [==============================] - 0s 442ms/step - loss: 0.0000e+00 - accuracy: 1.0000 - val_loss: 19.0321 - val_accuracy: 0.8000\n",
            "Epoch 53/100\n",
            "1/1 [==============================] - 1s 518ms/step - loss: 0.0000e+00 - accuracy: 1.0000 - val_loss: 19.0321 - val_accuracy: 0.8000\n",
            "Epoch 54/100\n",
            "1/1 [==============================] - 0s 478ms/step - loss: 0.0000e+00 - accuracy: 1.0000 - val_loss: 19.0321 - val_accuracy: 0.8000\n",
            "Epoch 55/100\n",
            "1/1 [==============================] - 0s 404ms/step - loss: 0.0000e+00 - accuracy: 1.0000 - val_loss: 19.0321 - val_accuracy: 0.8000\n",
            "Epoch 56/100\n",
            "1/1 [==============================] - 1s 503ms/step - loss: 0.0000e+00 - accuracy: 1.0000 - val_loss: 19.0321 - val_accuracy: 0.8000\n",
            "Epoch 57/100\n",
            "1/1 [==============================] - 1s 643ms/step - loss: 0.0000e+00 - accuracy: 1.0000 - val_loss: 19.0321 - val_accuracy: 0.8000\n",
            "Epoch 58/100\n",
            "1/1 [==============================] - 1s 583ms/step - loss: 0.0000e+00 - accuracy: 1.0000 - val_loss: 19.0321 - val_accuracy: 0.8000\n",
            "Epoch 59/100\n",
            "1/1 [==============================] - 1s 739ms/step - loss: 1.1479e-05 - accuracy: 1.0000 - val_loss: 19.0763 - val_accuracy: 0.8000\n",
            "Epoch 60/100\n",
            "1/1 [==============================] - 1s 835ms/step - loss: 0.0000e+00 - accuracy: 1.0000 - val_loss: 19.0763 - val_accuracy: 0.8000\n",
            "Epoch 61/100\n",
            "1/1 [==============================] - 1s 702ms/step - loss: 0.0000e+00 - accuracy: 1.0000 - val_loss: 19.0763 - val_accuracy: 0.8000\n",
            "Epoch 62/100\n",
            "1/1 [==============================] - 1s 563ms/step - loss: 1.4578e-05 - accuracy: 1.0000 - val_loss: 19.1354 - val_accuracy: 0.8000\n",
            "Epoch 63/100\n",
            "1/1 [==============================] - 0s 386ms/step - loss: 0.0000e+00 - accuracy: 1.0000 - val_loss: 19.1354 - val_accuracy: 0.8000\n",
            "Epoch 64/100\n",
            "1/1 [==============================] - 0s 433ms/step - loss: 0.0000e+00 - accuracy: 1.0000 - val_loss: 19.1354 - val_accuracy: 0.8000\n",
            "Epoch 65/100\n",
            "1/1 [==============================] - 0s 478ms/step - loss: 0.0000e+00 - accuracy: 1.0000 - val_loss: 19.1354 - val_accuracy: 0.8000\n",
            "Epoch 66/100\n",
            "1/1 [==============================] - 0s 480ms/step - loss: 0.0000e+00 - accuracy: 1.0000 - val_loss: 19.1354 - val_accuracy: 0.8000\n",
            "Epoch 67/100\n",
            "1/1 [==============================] - 1s 514ms/step - loss: 0.0000e+00 - accuracy: 1.0000 - val_loss: 19.1354 - val_accuracy: 0.8000\n",
            "Epoch 68/100\n",
            "1/1 [==============================] - 1s 662ms/step - loss: 0.0000e+00 - accuracy: 1.0000 - val_loss: 19.1354 - val_accuracy: 0.8000\n",
            "Epoch 69/100\n",
            "1/1 [==============================] - 0s 426ms/step - loss: 0.0000e+00 - accuracy: 1.0000 - val_loss: 19.1354 - val_accuracy: 0.8000\n",
            "Epoch 70/100\n",
            "1/1 [==============================] - 1s 525ms/step - loss: 0.0000e+00 - accuracy: 1.0000 - val_loss: 19.1354 - val_accuracy: 0.8000\n",
            "Epoch 71/100\n",
            "1/1 [==============================] - 1s 804ms/step - loss: 0.0000e+00 - accuracy: 1.0000 - val_loss: 19.1354 - val_accuracy: 0.8000\n",
            "Epoch 72/100\n",
            "1/1 [==============================] - 0s 339ms/step - loss: 0.0000e+00 - accuracy: 1.0000 - val_loss: 19.1354 - val_accuracy: 0.8000\n",
            "Epoch 73/100\n",
            "1/1 [==============================] - 0s 385ms/step - loss: 0.0000e+00 - accuracy: 1.0000 - val_loss: 19.1354 - val_accuracy: 0.8000\n",
            "Epoch 74/100\n",
            "1/1 [==============================] - 1s 603ms/step - loss: 0.0000e+00 - accuracy: 1.0000 - val_loss: 19.1354 - val_accuracy: 0.8000\n",
            "Epoch 75/100\n",
            "1/1 [==============================] - 1s 548ms/step - loss: 0.0000e+00 - accuracy: 1.0000 - val_loss: 19.1354 - val_accuracy: 0.8000\n",
            "Epoch 76/100\n",
            "1/1 [==============================] - 0s 498ms/step - loss: 0.0000e+00 - accuracy: 1.0000 - val_loss: 19.1354 - val_accuracy: 0.8000\n",
            "Epoch 77/100\n",
            "1/1 [==============================] - 1s 547ms/step - loss: 0.0000e+00 - accuracy: 1.0000 - val_loss: 19.1354 - val_accuracy: 0.8000\n",
            "Epoch 78/100\n",
            "1/1 [==============================] - 1s 612ms/step - loss: 0.0000e+00 - accuracy: 1.0000 - val_loss: 19.1354 - val_accuracy: 0.8000\n",
            "Epoch 79/100\n",
            "1/1 [==============================] - 0s 487ms/step - loss: 1.0133e-06 - accuracy: 1.0000 - val_loss: 19.1425 - val_accuracy: 0.8000\n",
            "Epoch 80/100\n",
            "1/1 [==============================] - 0s 475ms/step - loss: 0.0000e+00 - accuracy: 1.0000 - val_loss: 19.1425 - val_accuracy: 0.8000\n",
            "Epoch 81/100\n",
            "1/1 [==============================] - 0s 385ms/step - loss: 0.0000e+00 - accuracy: 1.0000 - val_loss: 19.1425 - val_accuracy: 0.8000\n",
            "Epoch 82/100\n",
            "1/1 [==============================] - 1s 746ms/step - loss: 0.0000e+00 - accuracy: 1.0000 - val_loss: 19.1425 - val_accuracy: 0.8000\n",
            "Epoch 83/100\n",
            "1/1 [==============================] - 1s 804ms/step - loss: 0.0000e+00 - accuracy: 1.0000 - val_loss: 19.1425 - val_accuracy: 0.8000\n",
            "Epoch 84/100\n",
            "1/1 [==============================] - 1s 867ms/step - loss: 0.0000e+00 - accuracy: 1.0000 - val_loss: 19.1425 - val_accuracy: 0.8000\n",
            "Epoch 85/100\n",
            "1/1 [==============================] - 1s 652ms/step - loss: 1.1921e-07 - accuracy: 1.0000 - val_loss: 19.1418 - val_accuracy: 0.8000\n",
            "Epoch 86/100\n",
            "1/1 [==============================] - 0s 250ms/step - loss: 0.0000e+00 - accuracy: 1.0000 - val_loss: 19.1418 - val_accuracy: 0.8000\n",
            "Epoch 87/100\n",
            "1/1 [==============================] - 0s 291ms/step - loss: 0.0000e+00 - accuracy: 1.0000 - val_loss: 19.1418 - val_accuracy: 0.8000\n",
            "Epoch 88/100\n",
            "1/1 [==============================] - 0s 248ms/step - loss: 0.0000e+00 - accuracy: 1.0000 - val_loss: 19.1418 - val_accuracy: 0.8000\n",
            "Epoch 89/100\n",
            "1/1 [==============================] - 0s 249ms/step - loss: 0.0000e+00 - accuracy: 1.0000 - val_loss: 19.1418 - val_accuracy: 0.8000\n",
            "Epoch 90/100\n",
            "1/1 [==============================] - 0s 254ms/step - loss: 0.0000e+00 - accuracy: 1.0000 - val_loss: 19.1418 - val_accuracy: 0.8000\n",
            "Epoch 91/100\n",
            "1/1 [==============================] - 0s 259ms/step - loss: 0.0000e+00 - accuracy: 1.0000 - val_loss: 19.1418 - val_accuracy: 0.8000\n",
            "Epoch 92/100\n",
            "1/1 [==============================] - 0s 270ms/step - loss: 0.0000e+00 - accuracy: 1.0000 - val_loss: 19.1418 - val_accuracy: 0.8000\n",
            "Epoch 93/100\n",
            "1/1 [==============================] - 0s 223ms/step - loss: 0.9521 - accuracy: 0.9000 - val_loss: 6.9020 - val_accuracy: 0.8000\n",
            "Epoch 94/100\n",
            "1/1 [==============================] - 0s 258ms/step - loss: 4.3259e-04 - accuracy: 1.0000 - val_loss: 7.0963 - val_accuracy: 0.8000\n",
            "Epoch 95/100\n",
            "1/1 [==============================] - 0s 252ms/step - loss: 0.0000e+00 - accuracy: 1.0000 - val_loss: 7.0963 - val_accuracy: 0.8000\n",
            "Epoch 96/100\n",
            "1/1 [==============================] - 0s 241ms/step - loss: 0.0000e+00 - accuracy: 1.0000 - val_loss: 7.0963 - val_accuracy: 0.8000\n",
            "Epoch 97/100\n",
            "1/1 [==============================] - 0s 259ms/step - loss: 0.0000e+00 - accuracy: 1.0000 - val_loss: 7.0963 - val_accuracy: 0.8000\n",
            "Epoch 98/100\n",
            "1/1 [==============================] - 0s 280ms/step - loss: 2.0956 - accuracy: 0.9000 - val_loss: 0.5724 - val_accuracy: 0.8000\n",
            "Epoch 99/100\n",
            "1/1 [==============================] - 0s 247ms/step - loss: 5.8143e-04 - accuracy: 1.0000 - val_loss: 0.6618 - val_accuracy: 0.8000\n",
            "Epoch 100/100\n",
            "1/1 [==============================] - 0s 248ms/step - loss: 1.0163e-04 - accuracy: 1.0000 - val_loss: 0.6658 - val_accuracy: 0.8000\n"
          ]
        }
      ],
      "source": [
        "import tensorflow as tf\n",
        "\n",
        "model.compile(loss='categorical_crossentropy',\n",
        "optimizer=tf.keras.optimizers.RMSprop(learning_rate=0.01, epsilon=0.01), metrics = ['accuracy'])\n",
        "\n",
        "history = model.fit(train_images, train_labels, epochs=100, validation_data=(test_images,test_labels))"
      ]
    },
    {
      "cell_type": "code",
      "execution_count": null,
      "metadata": {
        "colab": {
          "base_uri": "https://localhost:8080/"
        },
        "id": "gxUKHmLS0Q77",
        "outputId": "d581b72f-e3ac-4ecf-a05a-25218686066d"
      },
      "outputs": [
        {
          "output_type": "stream",
          "name": "stdout",
          "text": [
            "1/1 [==============================] - 0s 84ms/step\n"
          ]
        },
        {
          "output_type": "execute_result",
          "data": {
            "text/plain": [
              "array([[3.5606677e-13, 1.3727558e-11, 3.2741980e-12, 3.4083459e-22,\n",
              "        1.0000000e+00]], dtype=float32)"
            ]
          },
          "metadata": {},
          "execution_count": 41
        }
      ],
      "source": [
        "predict_val = image5.reshape(1,84,83,3)\n",
        "ans = model.predict(predict_val)\n",
        "ans"
      ]
    },
    {
      "cell_type": "code",
      "execution_count": null,
      "metadata": {
        "colab": {
          "base_uri": "https://localhost:8080/"
        },
        "id": "zNgSckKmJD7k",
        "outputId": "d04c4e70-97a5-4268-c048-3a2678fabd64"
      },
      "outputs": [
        {
          "output_type": "stream",
          "name": "stdout",
          "text": [
            "1/1 [==============================] - 0s 50ms/step - loss: 0.6658 - accuracy: 0.8000\n"
          ]
        },
        {
          "output_type": "execute_result",
          "data": {
            "text/plain": [
              "[0.6658282279968262, 0.800000011920929]"
            ]
          },
          "metadata": {},
          "execution_count": 42
        }
      ],
      "source": [
        "model.evaluate(test_images,test_labels)"
      ]
    },
    {
      "cell_type": "code",
      "execution_count": null,
      "metadata": {
        "colab": {
          "background_save": true
        },
        "id": "WZHJsW6CKXEK"
      },
      "outputs": [],
      "source": []
    }
  ],
  "metadata": {
    "colab": {
      "provenance": [],
      "include_colab_link": true
    },
    "kernelspec": {
      "display_name": "Python 3",
      "name": "python3"
    },
    "language_info": {
      "name": "python"
    }
  },
  "nbformat": 4,
  "nbformat_minor": 0
}